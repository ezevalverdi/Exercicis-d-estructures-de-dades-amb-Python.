{
 "cells": [
  {
   "cell_type": "markdown",
   "id": "9aab8387-8b5c-4a0e-ba68-6db75a303822",
   "metadata": {},
   "source": [
    "**Ejercicio 1**\n",
    "\n",
    "El ejercicio consiste en crear una función que te clasifique una variable numérica en función de la escala Suspendido/Aprobado/Notable/Excelente.\n",
    "\n",
    "Recuerda que Suspendido < 5, Aprobado > 5 y < 7, Notable > 7 y < 9 y Excelente > 9."
   ]
  },
  {
   "cell_type": "markdown",
   "id": "275ee249-4a78-4d17-93ac-c05ba77c1e20",
   "metadata": {},
   "source": [
    "**Ejercicio 2**\n",
    "\n",
    "Utilizando el siguiente tutorial crea una función que te pregunte dos números. \n",
    "\n",
    "Te tiene que mostrar un mensaje diciendo si el primero es mayor, el segundo es mayor o son iguales."
   ]
  },
  {
   "cell_type": "code",
   "execution_count": 3,
   "id": "eec26283-d394-453a-9d7a-41b0267eb934",
   "metadata": {},
   "outputs": [
    {
     "name": "stdin",
     "output_type": "stream",
     "text": [
      "Ingresa el primer numero:  5\n",
      "Ingresa el segundo numero:  4\n"
     ]
    },
    {
     "name": "stdout",
     "output_type": "stream",
     "text": [
      "El primer numero es mayor.\n"
     ]
    }
   ],
   "source": [
    "def comparar_numeros():\n",
    "    num1 = int(input(\"Ingresa el primer numero: \"))\n",
    "    num2 = int(input(\"Ingresa el segundo numero: \"))\n",
    "\n",
    "    if num1 > num2: \n",
    "        return \"El primer numero es mayor.\"\n",
    "    elif num2 > num1: \n",
    "        return \"El segundo numero es mayor.\"\n",
    "    else: \n",
    "        return \"Los numeros son iguales.\" \n",
    "\n",
    "resultado = comparar_numeros()\n",
    "print(resultado)"
   ]
  },
  {
   "cell_type": "markdown",
   "id": "fa5aed28-3c73-4efb-8436-4bde8628f9fb",
   "metadata": {},
   "source": [
    "Este codigo crea la funcion `comparar_numeros()`, que solicita al usuario dos entradas numéricas. La h creado con estos metodos:\n",
    "\n",
    "- `input()`: Para obtener la entrada del usuario como una cadena de texto.\n",
    "- `int()`: Para convertir la entrada del usuario a un número entero.\n",
    "- `if`, `elif`, `else`: Para evaluar condiciones y ejecutar diferentes bloques de código según el resultado.\n",
    "- `return`: Para devolver un valor desde la función `comparar_numeros()`.\n",
    "- `print()`: Para mostrar el resultado de la función.\n",
    "\n",
    "Use los condicionales para comparar los números y devolver una cadena de texto que indique que número es mayor o si son iguales."
   ]
  },
  {
   "cell_type": "markdown",
   "id": "2758a2cb-9528-41d6-ac5e-9722aa139d67",
   "metadata": {},
   "source": [
    "**Ejercicio 3**\n",
    "\n",
    "Crea una función que te pregunte tu nombre, y te pida un número. Si el número es 0, debería mostrar un mensaje de error. En caso contrario, tendría que mostrar el nombre repetido tantas veces como indique el número. Por ejemplo, \"Joan Joan Joan\"."
   ]
  },
  {
   "cell_type": "code",
   "execution_count": 10,
   "id": "c0ce2068-4070-460a-8567-c5a5f71059fa",
   "metadata": {},
   "outputs": [
    {
     "name": "stdin",
     "output_type": "stream",
     "text": [
      "Por favor, ingresa tu nombre:  joan\n",
      "Ingresa un número:  25\n"
     ]
    },
    {
     "name": "stdout",
     "output_type": "stream",
     "text": [
      "joan joan joan joan joan joan joan joan joan joan joan joan joan joan joan joan joan joan joan joan joan joan joan joan joan \n"
     ]
    }
   ],
   "source": [
    "def repetir_nombre():\n",
    "    nombre = input(\"Por favor, ingresa tu nombre: \")\n",
    "    numero = int(input(\"Ingresa un número: \"))\n",
    "\n",
    "    if numero == 0:\n",
    "        return \"Error: El número no puede ser 0.\"\n",
    "    else:\n",
    "        return (nombre + \" \") * numero\n",
    "\n",
    "resultado = repetir_nombre()\n",
    "print(resultado)"
   ]
  },
  {
   "cell_type": "markdown",
   "id": "19fe37a3-938b-4b48-96ee-925d8709830e",
   "metadata": {},
   "source": [
    "La función `repetir_nombre()` que he creado pide al usuario su nombre y un número. Use el `input()` para obtener estas entradas del usuario. Convierto la entrada numérica a un entero usando `int()`. Luego, con una declaración `if`, verifico si el número es 0. Si es así, la función devuelve un mensaje de error. Si no, concateno el nombre con un espacio y lo multiplico por el número (esto repite el nombre) y eso es lo que devuelve la función."
   ]
  },
  {
   "cell_type": "markdown",
   "id": "277bb443-b093-488e-9c40-191e40f2d665",
   "metadata": {},
   "source": [
    "**Ejercicio 4**\n",
    "\n",
    "Crea una función que dada una lista cualquiera, te diga si es simétrica o no. Si lo es, que te diga cuántos elementos tiene."
   ]
  },
  {
   "cell_type": "code",
   "execution_count": 13,
   "id": "d5eff2a6-20eb-4be3-b467-a3861a5bbeef",
   "metadata": {},
   "outputs": [
    {
     "name": "stdout",
     "output_type": "stream",
     "text": [
      "La lista no es simétrica.\n"
     ]
    }
   ],
   "source": [
    "def es_simetrica(lista):\n",
    "    if lista == lista[::-1]:\n",
    "        return f\"La lista es simétrica y tiene {len(lista)} elementos.\"\n",
    "    else:\n",
    "        return \"La lista no es simétrica.\"\n",
    "        \n",
    "print(es_simetrica([1, 2, 3, 2, 5, 7]))"
   ]
  },
  {
   "cell_type": "markdown",
   "id": "1eac0a85-eb85-4d8b-9b27-46654ab1a871",
   "metadata": {},
   "source": [
    "Esta función, `es_simetrica()`, toma una lista como argumento. Utiliza el método de rebanado de listas `[::-1]` para invertir la lista y luego la compara con la lista original. Si son iguales, la lista es simétrica y devuelve una cadena indicando esto y el número de elementos en la lista (usando la función `len()`). Si no son iguales, devuelve una cadena que indica que la lista no es simétrica."
   ]
  },
  {
   "cell_type": "markdown",
   "id": "202a7706-a72f-4780-b170-7738005f0b26",
   "metadata": {},
   "source": [
    "**Ejercicio 5**\n",
    "\n",
    "Crea una función que dada una lista, te diga cuántos números coinciden con su posición. Por ejemplo [3,4,2,0,2,3,6] el 2 y el 6 coinciden."
   ]
  },
  {
   "cell_type": "code",
   "execution_count": 25,
   "id": "bc3721a7-2346-418f-9558-2677422cbb96",
   "metadata": {},
   "outputs": [
    {
     "name": "stdout",
     "output_type": "stream",
     "text": [
      "Los números que coinciden con su posición son: [0, 3] y hay 2 de ellos.\n"
     ]
    }
   ],
   "source": [
    "def numeros_coinciden(lista):\n",
    "    coincidencias = [i for i, num in enumerate(lista) if i == num]\n",
    "    return f\"Los números que coinciden con su posición son: {coincidencias} y hay {len(coincidencias)} de ellos.\"\n",
    "\n",
    "print(numeros_coinciden([0,4,3,3,2,3,7]))"
   ]
  },
  {
   "cell_type": "markdown",
   "id": "82f28825-3ec8-4a8c-89d7-0c50be413383",
   "metadata": {},
   "source": [
    "La función `numeros_coinciden()` toma una lista como argumento. Utilizo la función `enumerate()` para obtener tanto el índice (posición) como el valor de cada elemento en la lista. Luego, con una comprensión de lista, genero una nueva lista (`coincidencias`) que contiene los índices donde el índice y el valor son iguales. Finalmente, la función devuelve una cadena formateada que incluye la lista de coincidencias y su longitud, que se obtiene con `len()`."
   ]
  },
  {
   "cell_type": "code",
   "execution_count": null,
   "id": "b090ee80-e7bc-47ea-982b-785cbd000620",
   "metadata": {},
   "outputs": [],
   "source": []
  },
  {
   "cell_type": "code",
   "execution_count": null,
   "id": "6437291c-5f69-4473-8220-77da775e30b9",
   "metadata": {},
   "outputs": [],
   "source": []
  }
 ],
 "metadata": {
  "kernelspec": {
   "display_name": "Python 3 (ipykernel)",
   "language": "python",
   "name": "python3"
  },
  "language_info": {
   "codemirror_mode": {
    "name": "ipython",
    "version": 3
   },
   "file_extension": ".py",
   "mimetype": "text/x-python",
   "name": "python",
   "nbconvert_exporter": "python",
   "pygments_lexer": "ipython3",
   "version": "3.12.0"
  }
 },
 "nbformat": 4,
 "nbformat_minor": 5
}

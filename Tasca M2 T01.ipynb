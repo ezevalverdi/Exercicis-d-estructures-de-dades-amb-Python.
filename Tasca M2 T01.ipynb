{
  "metadata": {
    "language_info": {
      "codemirror_mode": {
        "name": "python",
        "version": 3
      },
      "file_extension": ".py",
      "mimetype": "text/x-python",
      "name": "python",
      "nbconvert_exporter": "python",
      "pygments_lexer": "ipython3",
      "version": "3.8"
    },
    "kernelspec": {
      "name": "python",
      "display_name": "Python (Pyodide)",
      "language": "python"
    }
  },
  "nbformat_minor": 4,
  "nbformat": 4,
  "cells": [
    {
      "cell_type": "markdown",
      "source": "**Ejercicio 1**\n\nCrea una lista que agrupe los meses del año en trimestres (1T: enero, febrero y marzo; 2T: abril, mayo, junio...), es decir, una lista con 4 listas dentro.",
      "metadata": {}
    },
    {
      "cell_type": "code",
      "source": "meses = [\"enero\", \"febrero\", \"marzo\", \"abril\", \"mayo\", \"junio\", \"julio\", \"agosto\", \"septiembre\", \"octubre\", \"noviembre\", \"diciembre\"]\n\ntrimestre1 = meses[:3]\ntrimestre2 = meses[3:6]\ntrimestre3 = meses[6:9]\ntrimestre4 = meses[9:]\n\nlista_trimestre = [trimestre1, trimestre2, trimestre3, trimestre4]\n\nprint(lista_trimestre)",
      "metadata": {
        "trusted": true
      },
      "execution_count": 1,
      "outputs": [
        {
          "name": "stdout",
          "text": "[['enero', 'febrero', 'marzo'], ['abril', 'mayo', 'junio'], ['julio', 'agosto', 'septiembre'], ['octubre', 'noviembre', 'diciembre']]\n",
          "output_type": "stream"
        }
      ]
    },
    {
      "cell_type": "markdown",
      "source": "**Ejercicio 2**\n\nCrea un código que te permita acceder a:\n\nEl segundo mes del primer trimestre.\nLos meses del primer trimestre.\nSeptiembre y octubre.",
      "metadata": {}
    },
    {
      "cell_type": "markdown",
      "source": "El segundo mes del primer trimestre:",
      "metadata": {}
    },
    {
      "cell_type": "code",
      "source": "segundo_mes_trim1 = trimestre1[1]\n\nprint(segundo_mes_trim1)\n",
      "metadata": {
        "trusted": true
      },
      "execution_count": 2,
      "outputs": [
        {
          "name": "stdout",
          "text": "febrero\n",
          "output_type": "stream"
        }
      ]
    },
    {
      "cell_type": "markdown",
      "source": "Los meses del primer trimestre:",
      "metadata": {}
    },
    {
      "cell_type": "code",
      "source": "meses_trim1 = trimestre1\n\nprint(meses_trim1)",
      "metadata": {
        "trusted": true
      },
      "execution_count": 3,
      "outputs": [
        {
          "name": "stdout",
          "text": "['enero', 'febrero', 'marzo']\n",
          "output_type": "stream"
        }
      ]
    },
    {
      "cell_type": "markdown",
      "source": "Septiembre y octubre:",
      "metadata": {}
    },
    {
      "cell_type": "code",
      "source": "septiembre = meses[8]\noctubre = meses[9]\n\nprint(septiembre, octubre)",
      "metadata": {
        "trusted": true
      },
      "execution_count": 5,
      "outputs": [
        {
          "name": "stdout",
          "text": "septiembre octubre\n",
          "output_type": "stream"
        }
      ]
    },
    {
      "cell_type": "markdown",
      "source": "**Ejercicio 3**\n\nCrea una lista con números desordenados y responde a las siguientes preguntas:\n\n1. ¿Cuántos números hay?\n2. Cuántas veces aparece el número 3.\n3. ¿Cuántas veces aparecen los números 3 y 4?\n4. ¿Cuál es el mayor número?\n5. ¿Cuáles son los 3 números más pequeños?\n6. ¿Cuál es el rango de esa lista?",
      "metadata": {}
    },
    {
      "cell_type": "code",
      "source": "numeros = [1, 2, 3, 3, 4, 4, 5, 6, 7, 8, 9, 10]\n\n# Calculamos el número de números\nnumero_de_numeros = len(numeros)\n\n# Calculamos el número de veces que aparece el número 3\nnumeros_tres = numeros.count(3)\n\n# Calculamos el número de veces que aparecen los números 3 y 4\nnumero_de_tres_y_cuatro = numeros.count(3) + numeros.count(4)\n\n# Calculamos el mayor número\nmayor_numero = max(numeros)\n\n# Calculamos los 3 números más pequeños\ntres_numeros_mas_pequeños = numeros[:3]\n\n# Calculamos el rango de la lista\nrango = mayor_numero - numeros[0]\n\nprint(f\"1.Hay {numero_de_numeros} números\")\nprint(f\"2.El número 3 aparece {numeros_tres} veces\")\nprint(f\"3.Los números 3 y 4 aparecen {numero_de_tres_y_cuatro} veces\")\nprint(f\"4.El mayor número es {mayor_numero}\")\nprint(f\"5.Los 3 números más pequeños son {tres_numeros_mas_pequeños}\")\nprint(f\"6.El rango de la lista es {rango}\")\n",
      "metadata": {
        "trusted": true
      },
      "execution_count": 13,
      "outputs": [
        {
          "name": "stdout",
          "text": "1.Hay 12 números\n2.El número 3 aparece 2 veces\n3.Los números 3 y 4 aparecen 4 veces\n4.El mayor número es 10\n5.Los 3 números más pequeños son [1, 2, 3]\n6.El rango de la lista es 9\n",
          "output_type": "stream"
        }
      ]
    },
    {
      "cell_type": "markdown",
      "source": "Para responder a las preguntas, use los siguientes métodos:\n\n1. len() para obtener la longitud de una lista.\n2. count() para contar el número de veces que aparece un elemento en una lista.\n3. max() para obtener el elemento con el valor máximo de una lista.\n\nEn primer lugar, hice una lista con números desordenados. Luego, use los métodos len(), count(), max() y slice() para responder a las preguntas.\n\nPara calcular los 3 números más pequeños, use el método slice() para obtener una sublista con los primeros 3 elementos de la lista. Luego, use el método sort() para ordenar la sublista.\n\nPara calcular el rango de la lista, use el método abs() para calcular la diferencia entre el mayor y el menor número de la lista.",
      "metadata": {}
    },
    {
      "cell_type": "markdown",
      "source": "**Ejercicio 4**\n\nCrea un diccionario de la siguiente forma y responde a las preguntas:\n\ncompra = { \"Manzanas\" : {\"Qty\": 5, \"€\": 0.42}, \"Peras\" : {\"Qty\": 3, \"€\": 0.66} }\n\n1. Añade alguna fruta más\n2. ¿Cuánto han costado las peras en total?\n3. ¿Cuántas frutas hemos comprado en total?\n4. ¿Cuál es la fruta más cara?",
      "metadata": {}
    },
    {
      "cell_type": "code",
      "source": "compra = { \"Manzanas\" : {\"Qty\": 5, \"€\": 0.42}, \"Peras\" : {\"Qty\": 3, \"€\": 0.66} }\n\n# Añadimos alguna fruta más\ncompra[\"Naranjas\"] = {\"Qty\": 2, \"€\": 0.35}\ncompra[\"Plátanos\"] = {\"Qty\": 1, \"€\": 0.85}\n\n# Calculamos el coste total de las peras\ncoste_peras = compra[\"Peras\"][\"Qty\"] * compra[\"Peras\"][\"€\"]\n\n# Calculamos el número total de frutas compradas\nnumero_frutas = len(compra)\n\n# Calculamos la fruta más cara\nfruta_mas_cara = max(compra, key=lambda fruta: fruta[\"€\"])\n\nprint(f\"2.El coste total de las peras es {coste_peras} €\")\nprint(f\"3.En total hemos comprado {numero_frutas} frutas\")\nprint(f\"4.La fruta más cara es {fruta_mas_cara}\")",
      "metadata": {
        "trusted": true
      },
      "execution_count": 23,
      "outputs": [
        {
          "ename": "<class 'TypeError'>",
          "evalue": "string indices must be integers, not 'str'",
          "traceback": [
            "\u001b[0;31m---------------------------------------------------------------------------\u001b[0m",
            "\u001b[0;31mTypeError\u001b[0m                                 Traceback (most recent call last)",
            "Cell \u001b[0;32mIn[23], line 14\u001b[0m\n\u001b[1;32m     11\u001b[0m numero_frutas \u001b[38;5;241m=\u001b[39m \u001b[38;5;28mlen\u001b[39m(compra)\n\u001b[1;32m     13\u001b[0m \u001b[38;5;66;03m# Calculamos la fruta más cara\u001b[39;00m\n\u001b[0;32m---> 14\u001b[0m fruta_mas_cara \u001b[38;5;241m=\u001b[39m \u001b[38;5;28;43mmax\u001b[39;49m\u001b[43m(\u001b[49m\u001b[43mcompra\u001b[49m\u001b[43m,\u001b[49m\u001b[43m \u001b[49m\u001b[43mkey\u001b[49m\u001b[38;5;241;43m=\u001b[39;49m\u001b[38;5;28;43;01mlambda\u001b[39;49;00m\u001b[43m \u001b[49m\u001b[43mfruta\u001b[49m\u001b[43m:\u001b[49m\u001b[43m \u001b[49m\u001b[43mfruta\u001b[49m\u001b[43m[\u001b[49m\u001b[38;5;124;43m\"\u001b[39;49m\u001b[38;5;124;43m€\u001b[39;49m\u001b[38;5;124;43m\"\u001b[39;49m\u001b[43m]\u001b[49m\u001b[43m)\u001b[49m\n\u001b[1;32m     16\u001b[0m \u001b[38;5;28mprint\u001b[39m(\u001b[38;5;124mf\u001b[39m\u001b[38;5;124m\"\u001b[39m\u001b[38;5;124m2.El coste total de las peras es \u001b[39m\u001b[38;5;132;01m{\u001b[39;00mcoste_peras\u001b[38;5;132;01m}\u001b[39;00m\u001b[38;5;124m €\u001b[39m\u001b[38;5;124m\"\u001b[39m)\n\u001b[1;32m     17\u001b[0m \u001b[38;5;28mprint\u001b[39m(\u001b[38;5;124mf\u001b[39m\u001b[38;5;124m\"\u001b[39m\u001b[38;5;124m3.En total hemos comprado \u001b[39m\u001b[38;5;132;01m{\u001b[39;00mnumero_frutas\u001b[38;5;132;01m}\u001b[39;00m\u001b[38;5;124m frutas\u001b[39m\u001b[38;5;124m\"\u001b[39m)\n",
            "Cell \u001b[0;32mIn[23], line 14\u001b[0m, in \u001b[0;36m<lambda>\u001b[0;34m(fruta)\u001b[0m\n\u001b[1;32m     11\u001b[0m numero_frutas \u001b[38;5;241m=\u001b[39m \u001b[38;5;28mlen\u001b[39m(compra)\n\u001b[1;32m     13\u001b[0m \u001b[38;5;66;03m# Calculamos la fruta más cara\u001b[39;00m\n\u001b[0;32m---> 14\u001b[0m fruta_mas_cara \u001b[38;5;241m=\u001b[39m \u001b[38;5;28mmax\u001b[39m(compra, key\u001b[38;5;241m=\u001b[39m\u001b[38;5;28;01mlambda\u001b[39;00m fruta: \u001b[43mfruta\u001b[49m\u001b[43m[\u001b[49m\u001b[38;5;124;43m\"\u001b[39;49m\u001b[38;5;124;43m€\u001b[39;49m\u001b[38;5;124;43m\"\u001b[39;49m\u001b[43m]\u001b[49m)\n\u001b[1;32m     16\u001b[0m \u001b[38;5;28mprint\u001b[39m(\u001b[38;5;124mf\u001b[39m\u001b[38;5;124m\"\u001b[39m\u001b[38;5;124m2.El coste total de las peras es \u001b[39m\u001b[38;5;132;01m{\u001b[39;00mcoste_peras\u001b[38;5;132;01m}\u001b[39;00m\u001b[38;5;124m €\u001b[39m\u001b[38;5;124m\"\u001b[39m)\n\u001b[1;32m     17\u001b[0m \u001b[38;5;28mprint\u001b[39m(\u001b[38;5;124mf\u001b[39m\u001b[38;5;124m\"\u001b[39m\u001b[38;5;124m3.En total hemos comprado \u001b[39m\u001b[38;5;132;01m{\u001b[39;00mnumero_frutas\u001b[38;5;132;01m}\u001b[39;00m\u001b[38;5;124m frutas\u001b[39m\u001b[38;5;124m\"\u001b[39m)\n",
            "\u001b[0;31mTypeError\u001b[0m: string indices must be integers, not 'str'"
          ],
          "output_type": "error"
        }
      ]
    },
    {
      "cell_type": "markdown",
      "source": "Explicación:\n\nPara responder a las preguntas use:\nlen() para obtener la longitud de una lista y max() para obtener el elemento con el valor máximo de un diccionario.\n\n\nEn primer lugar, añadi algunas frutas más al diccionario. Luego, calcule el coste total de las peras multiplicando la cantidad por el precio. Para calcular el número total de frutas compradas, use el método len() para saber el número de elementos del diccionario. Finalmente, use el max() para encontrar la fruta con el precio más alto.",
      "metadata": {}
    }
  ]
}
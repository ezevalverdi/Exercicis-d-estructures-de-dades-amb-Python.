{
  "metadata": {
    "kernelspec": {
      "name": "python",
      "display_name": "Python (Pyodide)",
      "language": "python"
    },
    "language_info": {
      "codemirror_mode": {
        "name": "python",
        "version": 3
      },
      "file_extension": ".py",
      "mimetype": "text/x-python",
      "name": "python",
      "nbconvert_exporter": "python",
      "pygments_lexer": "ipython3",
      "version": "3.8"
    }
  },
  "nbformat_minor": 5,
  "nbformat": 4,
  "cells": [
    {
      "cell_type": "markdown",
      "source": "**Ejercicio 1**\n\nEl ejercicio consiste en crear una función que te clasifique una variable numérica en función de la escala Suspendido/Aprobado/Notable/Excelente.\n\nRecuerda que Suspendido < 5, Aprobado > 5 y < 7, Notable > 7 y < 9 y Excelente > 9.",
      "metadata": {},
      "id": "9aab8387-8b5c-4a0e-ba68-6db75a303822"
    },
    {
      "cell_type": "code",
      "source": "def clasificar_nota(nota):\n  if nota < 5:\n    return \"Suspendido\"\n  elif 5 <= nota <= 7:\n    return \"Aprobado\"\n  elif 7 < nota <= 9:\n    return \"Notable\"\n  else:\n    return \"Excelente\"\n\nnota = 5\n\nprint(f\"La nota {nota} es {clasificar_nota(nota)}\")",
      "metadata": {
        "trusted": true
      },
      "execution_count": 1,
      "outputs": [
        {
          "name": "stdout",
          "text": "La nota 5 es Aprobado\n",
          "output_type": "stream"
        }
      ],
      "id": "dbdad772-840a-40f4-9ade-d2dcc5cee893"
    },
    {
      "cell_type": "markdown",
      "source": "Este código define la función `clasificar_nota(nota)` que toma una variable llamada `nota` como argumento. Los métodos utilizados en esta función son:\n\n`if` y `elif` para establecer condiciones y comparar si la nota es menor que 5, está en el rango de 5 a 7, o en el rango de 7 a 9.\n`return` para devolver una cadena de texto que describe la clasificación de la nota, como \"Suspendido,\" \"Aprobado,\" \"Notable\" o \"Excelente.\"\n\nEste código también incluye la asignación de un valor a la variable `nota` y utiliza `print` para mostrar un mensaje que indica la clasificación de la nota basada en la función `clasificar_nota`.",
      "metadata": {},
      "id": "16bff51b-0428-4c2f-aa78-dc49feb6c61c"
    },
    {
      "cell_type": "markdown",
      "source": "**Ejercicio 2**\n\nUtilizando el siguiente tutorial crea una función que te pregunte dos números. \n\nTe tiene que mostrar un mensaje diciendo si el primero es mayor, el segundo es mayor o son iguales.",
      "metadata": {},
      "id": "275ee249-4a78-4d17-93ac-c05ba77c1e20"
    },
    {
      "cell_type": "code",
      "source": "def comparar_numeros():\n    num1 = int(input(\"Ingresa el primer numero: \"))\n    num2 = int(input(\"Ingresa el segundo numero: \"))\n\n    if num1 > num2: \n        return \"El primer numero es mayor.\"\n    elif num2 > num1: \n        return \"El segundo numero es mayor.\"\n    else: \n        return \"Los numeros son iguales.\" \n\nresultado = comparar_numeros()\nprint(resultado)",
      "metadata": {},
      "execution_count": 3,
      "outputs": [
        {
          "name": "stdin",
          "output_type": "stream",
          "text": "Ingresa el primer numero:  5\n\nIngresa el segundo numero:  4\n"
        },
        {
          "name": "stdout",
          "output_type": "stream",
          "text": "El primer numero es mayor.\n"
        }
      ],
      "id": "eec26283-d394-453a-9d7a-41b0267eb934"
    },
    {
      "cell_type": "markdown",
      "source": "Este codigo crea la funcion `comparar_numeros()`, que solicita al usuario dos entradas numéricas. La h creado con estos metodos:\n\n- `input()`: Para obtener la entrada del usuario como una cadena de texto.\n- `int()`: Para convertir la entrada del usuario a un número entero.\n- `if`, `elif`, `else`: Para evaluar condiciones y ejecutar diferentes bloques de código según el resultado.\n- `return`: Para devolver un valor desde la función `comparar_numeros()`.\n- `print()`: Para mostrar el resultado de la función.\n\nUse los condicionales para comparar los números y devolver una cadena de texto que indique que número es mayor o si son iguales.",
      "metadata": {},
      "id": "fa5aed28-3c73-4efb-8436-4bde8628f9fb"
    },
    {
      "cell_type": "markdown",
      "source": "**Ejercicio 3**\n\nCrea una función que te pregunte tu nombre, y te pida un número. Si el número es 0, debería mostrar un mensaje de error. En caso contrario, tendría que mostrar el nombre repetido tantas veces como indique el número. Por ejemplo, \"Joan Joan Joan\".",
      "metadata": {},
      "id": "2758a2cb-9528-41d6-ac5e-9722aa139d67"
    },
    {
      "cell_type": "code",
      "source": "def repetir_nombre():\n    nombre = input(\"Por favor, ingresa tu nombre: \")\n    numero = int(input(\"Ingresa un número: \"))\n\n    if numero == 0:\n        return \"Error: El número no puede ser 0.\"\n    else:\n        return (nombre + \" \") * numero\n\nresultado = repetir_nombre()\nprint(resultado)",
      "metadata": {},
      "execution_count": 10,
      "outputs": [
        {
          "name": "stdin",
          "output_type": "stream",
          "text": "Por favor, ingresa tu nombre:  joan\n\nIngresa un número:  25\n"
        },
        {
          "name": "stdout",
          "output_type": "stream",
          "text": "joan joan joan joan joan joan joan joan joan joan joan joan joan joan joan joan joan joan joan joan joan joan joan joan joan \n"
        }
      ],
      "id": "c0ce2068-4070-460a-8567-c5a5f71059fa"
    },
    {
      "cell_type": "markdown",
      "source": "La función `repetir_nombre()` que he creado pide al usuario su nombre y un número. Use el `input()` para obtener estas entradas del usuario. Convierto la entrada numérica a un entero usando `int()`. Luego, con un `if`, verifico si el número es 0. Si es así, la función devuelve un mensaje de error. Si no, concateno el nombre con un espacio y lo multiplico por el número (esto repite el nombre) y eso es lo que devuelve la función.",
      "metadata": {},
      "id": "19fe37a3-938b-4b48-96ee-925d8709830e"
    },
    {
      "cell_type": "markdown",
      "source": "**Ejercicio 4**\n\nCrea una función que dada una lista cualquiera, te diga si es simétrica o no. Si lo es, que te diga cuántos elementos tiene.",
      "metadata": {},
      "id": "277bb443-b093-488e-9c40-191e40f2d665"
    },
    {
      "cell_type": "code",
      "source": "def es_simetrica(lista):\n    if lista == lista[::-1]:\n        return f\"La lista es simétrica y tiene {len(lista)} elementos.\"\n    else:\n        return \"La lista no es simétrica.\"\n        \nprint(es_simetrica([1, 2, 3, 2, 5, 7]))",
      "metadata": {},
      "execution_count": 13,
      "outputs": [
        {
          "name": "stdout",
          "output_type": "stream",
          "text": "La lista no es simétrica.\n"
        }
      ],
      "id": "d5eff2a6-20eb-4be3-b467-a3861a5bbeef"
    },
    {
      "cell_type": "markdown",
      "source": "Esta función, `es_simetrica()`, toma una lista como argumento. Utiliza el método de rebanado de listas `[::-1]` para invertir la lista y luego la compara con la lista original. Si son iguales, la lista es simétrica y devuelve una cadena indicando esto y el número de elementos en la lista (usando la función `len()`). Si no son iguales, devuelve una cadena que indica que la lista no es simétrica.",
      "metadata": {},
      "id": "1eac0a85-eb85-4d8b-9b27-46654ab1a871"
    },
    {
      "cell_type": "markdown",
      "source": "**Ejercicio 5**\n\nCrea una función que dada una lista, te diga cuántos números coinciden con su posición. Por ejemplo [3,4,2,0,2,3,6] el 2 y el 6 coinciden.",
      "metadata": {},
      "id": "202a7706-a72f-4780-b170-7738005f0b26"
    },
    {
      "cell_type": "code",
      "source": "def numeros_coinciden(lista):\n    coincidencias = [i for i, num in enumerate(lista) if i == num]\n    return f\"Los números que coinciden con su posición son: {coincidencias} y hay {len(coincidencias)} de ellos.\"\n\nprint(numeros_coinciden([0,4,3,3,2,3,7]))",
      "metadata": {},
      "execution_count": 25,
      "outputs": [
        {
          "name": "stdout",
          "output_type": "stream",
          "text": "Los números que coinciden con su posición son: [0, 3] y hay 2 de ellos.\n"
        }
      ],
      "id": "bc3721a7-2346-418f-9558-2677422cbb96"
    },
    {
      "cell_type": "markdown",
      "source": "La función `numeros_coinciden()` toma una lista como argumento. Utilizo la función `enumerate()` para obtener tanto el índice (posición) como el valor de cada elemento en la lista. Luego, con una comprensión de lista, genero una nueva lista (`coincidencias`) que contiene los índices donde el índice y el valor son iguales. Finalmente, la función devuelve una cadena formateada que incluye la lista de coincidencias y su longitud, que se obtiene con `len()`.",
      "metadata": {},
      "id": "82f28825-3ec8-4a8c-89d7-0c50be413383"
    }
  ]
}